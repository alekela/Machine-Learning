{
  "nbformat": 4,
  "nbformat_minor": 0,
  "metadata": {
    "colab": {
      "provenance": [],
      "collapsed_sections": [],
      "authorship_tag": "ABX9TyPo50U3TYFjgmqP0fZPBxZq",
      "include_colab_link": true
    },
    "kernelspec": {
      "name": "python3",
      "display_name": "Python 3"
    },
    "language_info": {
      "name": "python"
    }
  },
  "cells": [
    {
      "cell_type": "markdown",
      "metadata": {
        "id": "view-in-github",
        "colab_type": "text"
      },
      "source": [
        "<a href=\"https://colab.research.google.com/github/alekela/Machine-Learning/blob/main/Machine_learning_google.ipynb\" target=\"_parent\"><img src=\"https://colab.research.google.com/assets/colab-badge.svg\" alt=\"Open In Colab\"/></a>"
      ]
    },
    {
      "cell_type": "markdown",
      "source": [
        "from typing_extensions import runtime\n",
        "hh.ru https://api.hh.runtime\n",
        "\n",
        "Скачать 2000 вакансий по названию Разработчик по городу Москва"
      ],
      "metadata": {
        "id": "6a29sNYa-viU"
      }
    },
    {
      "cell_type": "code",
      "source": [
        "import requests, numpy as np, matplotlib as plt\n",
        "\n",
        "for i in range(20):\n",
        "  url = f\"https://api.hh.runtime/vacancies?text=Разработчик&area=1&search_field=name&per_page=100&page={str(i)}\"\n",
        "\n",
        "requests.get(url).json()"
      ],
      "metadata": {
        "id": "IJYuLAdE71H4"
      },
      "execution_count": null,
      "outputs": []
    }
  ]
}